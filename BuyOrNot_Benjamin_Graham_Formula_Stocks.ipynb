{
  "nbformat": 4,
  "nbformat_minor": 0,
  "metadata": {
    "colab": {
      "provenance": []
    },
    "kernelspec": {
      "name": "python3",
      "display_name": "Python 3"
    },
    "language_info": {
      "name": "python"
    }
  },
  "cells": [
    {
      "cell_type": "code",
      "source": [
        "!pip install yfinance"
      ],
      "metadata": {
        "id": "Dsx5NAztrq1G"
      },
      "execution_count": null,
      "outputs": []
    },
    {
      "cell_type": "code",
      "execution_count": null,
      "metadata": {
        "colab": {
          "base_uri": "https://localhost:8080/"
        },
        "id": "9ncP-iIMrotu",
        "outputId": "ce24cd22-ed46-431f-82cf-f7b87fea1fee"
      },
      "outputs": [
        {
          "output_type": "stream",
          "name": "stdout",
          "text": [
            "Enter the stock ticker (e.g., AAPL): hodl\n",
            "Enter the current AAA-rated corporate bond yield (default 4.4): \n",
            "Insufficient data to analyze HODL.\n"
          ]
        }
      ],
      "source": [
        "\n",
        "import yfinance as yf\n",
        "\n",
        "def fetch_stock_data(ticker):\n",
        "    stock = yf.Ticker(ticker)\n",
        "    info = stock.info\n",
        "\n",
        "    try:\n",
        "        # Fetch required financial data\n",
        "        eps = info.get('trailingEps', None)  # Earnings Per Share\n",
        "        growth_rate = info.get('earningsGrowth', None)  # Growth Rate\n",
        "        current_price = info.get('currentPrice', None)  # Current Price\n",
        "        book_value = info.get('bookValue', None)  # Book Value per Share\n",
        "        dividend_yield = info.get('dividendYield', None)  # Dividend Yield\n",
        "        net_income = info.get('netIncomeToCommon', None)  # Net Income\n",
        "        total_liabilities = info.get('totalLiabilities', None)  # Total Liabilities\n",
        "        shareholders_equity = info.get('totalStockholderEquity', None)  # Shareholder Equity\n",
        "        market_cap = info.get('marketCap', None)  # Market Cap\n",
        "        dividend_per_share = info.get('dividendRate', None)  # Dividend per Share\n",
        "\n",
        "        return {\n",
        "            \"eps\": eps,\n",
        "            \"growth_rate\": growth_rate * 100 if growth_rate else None,\n",
        "            \"current_price\": current_price,\n",
        "            \"book_value\": book_value,\n",
        "            \"dividend_yield\": dividend_yield * 100 if dividend_yield else None,\n",
        "            \"net_income\": net_income,\n",
        "            \"total_liabilities\": total_liabilities,\n",
        "            \"shareholders_equity\": shareholders_equity,\n",
        "            \"market_cap\": market_cap,\n",
        "            \"dividend_per_share\": dividend_per_share,\n",
        "        }\n",
        "\n",
        "    except Exception as e:\n",
        "        print(f\"Error fetching data: {e}\")\n",
        "        return None\n",
        "\n",
        "def benjamin_graham_formula(eps, growth_rate, bond_yield=4.4):\n",
        "    return eps * (8.5 + (2 * growth_rate)) * (4.4 / bond_yield)\n",
        "\n",
        "def decision_to_buy(data, bond_yield=4.4):\n",
        "    eps = data.get(\"eps\")\n",
        "    growth_rate = data.get(\"growth_rate\")\n",
        "    current_price = data.get(\"current_price\")\n",
        "    book_value = data.get(\"book_value\")\n",
        "    dividend_yield = data.get(\"dividend_yield\")\n",
        "    net_income = data.get(\"net_income\")\n",
        "    total_liabilities = data.get(\"total_liabilities\")\n",
        "    shareholders_equity = data.get(\"shareholders_equity\")\n",
        "\n",
        "    # Calculate key metrics\n",
        "    intrinsic_value = benjamin_graham_formula(eps, growth_rate, bond_yield)\n",
        "    pe_ratio = current_price / eps if eps else None\n",
        "    pb_ratio = current_price / book_value if book_value else None\n",
        "    roe = (net_income / shareholders_equity * 100) if net_income and shareholders_equity else None\n",
        "    debt_to_equity = (total_liabilities / shareholders_equity) if total_liabilities and shareholders_equity else None\n",
        "    peg_ratio = (pe_ratio / growth_rate) if pe_ratio and growth_rate else None\n",
        "\n",
        "    print(f\"Analysis for the stock:\")\n",
        "    print(f\"EPS (TTM): {eps}\")\n",
        "    print(f\"Growth Rate (%): {growth_rate}\")\n",
        "    print(f\"Current Price: ${current_price}\")\n",
        "    print(f\"Intrinsic Value (Graham Formula): ${intrinsic_value:.2f}\")\n",
        "    print(f\"PEG Ratio: {peg_ratio:.2f}\" if peg_ratio else \"PEG Ratio: N/A\")\n",
        "    print(f\"P/E Ratio: {pe_ratio:.2f}\" if pe_ratio else \"P/E Ratio: N/A\")\n",
        "    print(f\"P/B Ratio: {pb_ratio:.2f}\" if pb_ratio else \"P/B Ratio: N/A\")\n",
        "    print(f\"ROE: {roe:.2f}%\" if roe else \"ROE: N/A\")\n",
        "    print(f\"Debt-to-Equity Ratio: {debt_to_equity:.2f}\" if debt_to_equity else \"Debt-to-Equity Ratio: N/A\")\n",
        "    print(f\"Dividend Yield: {dividend_yield:.2f}%\" if dividend_yield else \"Dividend Yield: N/A\")\n",
        "\n",
        "    Dividend_Reward = current_price*dividend_yield/100\n",
        "    print(f\"Dividend Reward: ${Dividend_Reward:.2f}\" if Dividend_Reward else \"Dividend Yield: N/A\")\n",
        "\n",
        "    # Decision based on the example algorithm\n",
        "    if intrinsic_value > current_price and \\\n",
        "     (peg_ratio and peg_ratio < 1):\n",
        "      print(\"\\nRecommendation: BUY - The stock is fundamentally strong and undervalued.\")\n",
        "    else:\n",
        "        print(\"\\nRecommendation: DO NOT BUY - The stock does not meet the criteria.\")\n",
        "\n",
        "    if (pe_ratio and pe_ratio < 15):\n",
        "        print(\"\\nBUY - pe_ratio < 15.\")\n",
        "    else:\n",
        "        print(\"\\n WARNING: pe_ratio > 15.\")\n",
        "\n",
        "    if (pb_ratio and pb_ratio < 1.5):\n",
        "        print(\"\\nBUY - pe_ratio < 15.\")\n",
        "    else:\n",
        "        print(\"\\n WARNING: pb_ratio > 1.5.\")\n",
        "\n",
        "    if (roe and roe > 15):\n",
        "        print(\"\\nBUY - roe and roe > 15.\")\n",
        "    else:\n",
        "        print(\"\\n WARNING: roe and roe < 15.\")\n",
        "\n",
        "    if (debt_to_equity and debt_to_equity < 0.5):\n",
        "        print(\"\\nBUY - debt_to_equity < 0.5.\")\n",
        "    else:\n",
        "        print(\"\\n WARNING: debt_to_equity > 0.5.\")\n",
        "\n",
        "def analyze_stock(ticker, bond_yield=4.4):\n",
        "    data = fetch_stock_data(ticker)\n",
        "    if not data or not data.get(\"eps\") or not data.get(\"current_price\"):\n",
        "        print(f\"Insufficient data to analyze {ticker}.\")\n",
        "        return\n",
        "\n",
        "    decision_to_buy(data, bond_yield)\n",
        "\n",
        "# Example usage\n",
        "ticker = input(\"Enter the stock ticker (e.g., AAPL): \").upper()\n",
        "bond_yield = float(input(\"Enter the current AAA-rated corporate bond yield (default 4.4): \") or 4.4)\n",
        "\n",
        "analyze_stock(ticker, bond_yield)\n"
      ]
    },
    {
      "cell_type": "markdown",
      "source": [],
      "metadata": {
        "id": "AEEMFW7pHuo7"
      }
    }
  ]
}